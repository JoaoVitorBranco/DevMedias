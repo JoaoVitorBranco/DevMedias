{
 "cells": [
  {
   "attachments": {},
   "cell_type": "markdown",
   "metadata": {},
   "source": [
    "# Analise do Algorítmo para cálculo das médias em Dev Médias\n",
    "## Início\n",
    "\n",
    "Este projeto visa ter o cálculo, a partir de notas de entrada, juntamente com todos os pesos de todas as notas, e uma média visada, encontrar as melhores notas que um aluno deve tirar para conseguir a tal média esperada. \n",
    "Inicialmente, este problema será separado em problemáticas, a fim de compreendê-lo melhor. \n"
   ]
  },
  {
   "attachments": {},
   "cell_type": "markdown",
   "metadata": {},
   "source": [
    "## 0 - Estruturação do problema\n",
    "Cada nota será separada em uma classe, com peso e valor da nota. \n",
    "1"
   ]
  },
  {
   "attachments": {},
   "cell_type": "markdown",
   "metadata": {},
   "source": [
    "### 0.0 - Importando bibliotecas"
   ]
  },
  {
   "cell_type": "code",
   "execution_count": 54,
   "metadata": {},
   "outputs": [],
   "source": [
    "from typing import Tuple, List, Dict\n",
    "import datetime\n",
    "import abc"
   ]
  },
  {
   "attachments": {},
   "cell_type": "markdown",
   "metadata": {},
   "source": [
    "### 0.1 - Definição das variáveis/ constantes"
   ]
  },
  {
   "cell_type": "code",
   "execution_count": 7,
   "metadata": {},
   "outputs": [],
   "source": [
    "dominio_de_notas = list(map(lambda x: x/2, range(0,21)))\n"
   ]
  },
  {
   "attachments": {},
   "cell_type": "markdown",
   "metadata": {},
   "source": [
    "### 0.2 - Regras de negócio\n",
    "### 0.2.1 - Nota\n",
    "- O valor da nota pode ser None, mas o peso não;\n",
    "- Cada nota deve pertencer ao domínio `dominio_de_notas`;\n",
    "- O peso deve ser menor que 1"
   ]
  },
  {
   "cell_type": "code",
   "execution_count": 65,
   "metadata": {},
   "outputs": [],
   "source": [
    "class Nota:\n",
    "    def __init__(self, peso: float = None, nota: float = None):\n",
    "        nota_valida, msg = self.valida_nota(nota)\n",
    "        if(not nota_valida): \n",
    "            raise Exception(msg)\n",
    "        self.nota = nota\n",
    "        \n",
    "        peso_valido, msg = self.valida_peso(peso)\n",
    "        if(not peso_valido):\n",
    "            raise Exception(msg)\n",
    "        self.peso = peso\n",
    "        \n",
    "    @staticmethod\n",
    "    def valida_nota(nota: int) -> Tuple[bool, str]:\n",
    "        if(type(nota) not in [float, int, None]): \n",
    "            return (False, f\"Nota {nota} deve ser um número\")\n",
    "        if(nota not in dominio_de_notas): \n",
    "            return (False, f\"Nota {nota} deve estar entre 0 e 10, variando de 0.5 em 0.5\")\n",
    "        return (True, '')\n",
    "        \n",
    "    @staticmethod\n",
    "    def valida_peso(peso: int) -> Tuple[bool, str]:\n",
    "        if(peso is None): \n",
    "            return (False, f\"Peso {peso} não pode ser nulo\")\n",
    "        elif(type(peso) != float): \n",
    "            return (False, f\"Peso {peso} deve ser um número\")\n",
    "        elif (peso < 0): \n",
    "            return (False, f\"Peso {peso} não pode ser menor que 0\")\n",
    "        elif(peso > 1): \n",
    "            return (False, f\"Peso {peso} não pode ser maior que 1\")\n",
    "        return (True, '')\n",
    "    \n",
    "    def __str__(self):\n",
    "        return f\"(Valor: {self.nota}, Peso: {self.peso})\""
   ]
  },
  {
   "attachments": {},
   "cell_type": "markdown",
   "metadata": {},
   "source": [
    "Testando classe `Nota`"
   ]
  },
  {
   "cell_type": "code",
   "execution_count": 72,
   "metadata": {},
   "outputs": [
    {
     "name": "stdout",
     "output_type": "stream",
     "text": [
      "Teste - Sucesso\n",
      "True\n",
      "True\n",
      "\n",
      "Teste - Nota deve ser um número\n",
      "True\n",
      "\n",
      "Teste - Nota deve estar entre 0 e 10, variando de 0.5 em 0.5\n",
      "True\n",
      "\n",
      "Teste - Peso não pode ser nulo\n",
      "True\n",
      "\n",
      "Teste - Peso deve ser um número\n",
      "True\n",
      "\n",
      "Teste - Peso não pode ser menor que 0\n",
      "True\n",
      "\n",
      "Teste - Peso não pode ser maior que 1\n",
      "True\n"
     ]
    }
   ],
   "source": [
    "# Sucesso\n",
    "nota = Nota(peso=0.5, nota=10)\n",
    "print(\"Teste - Sucesso\")\n",
    "print(nota.nota == 10)\n",
    "print(nota.peso == 0.5)\n",
    "\n",
    "# Nota deve ser um número\n",
    "print(\"\\nTeste - Nota deve ser um número\")\n",
    "try:\n",
    "    nota = Nota(peso=0.5, nota='10')\n",
    "    print(False)\n",
    "except Exception as e:\n",
    "    print(e.args[0] == \"Nota 10 deve ser um número\")\n",
    "    \n",
    "# Nota deve estar entre 0 e 10, variando de 0.5 em 0.5\n",
    "print(\"\\nTeste - Nota deve estar entre 0 e 10, variando de 0.5 em 0.5\")\n",
    "try:\n",
    "    nota = Nota(peso=0.5, nota=11)\n",
    "    print(False)\n",
    "except Exception as e:\n",
    "    print(e.args[0] == \"Nota 11 deve estar entre 0 e 10, variando de 0.5 em 0.5\")\n",
    "    \n",
    "# Peso não pode ser nulo\n",
    "print(\"\\nTeste - Peso não pode ser nulo\")\n",
    "try:\n",
    "    nota = Nota(nota=10)\n",
    "    print(False)\n",
    "except Exception as e:\n",
    "    print(e.args[0] == \"Peso None não pode ser nulo\")\n",
    "    \n",
    "# Peso deve ser um número\n",
    "print(\"\\nTeste - Peso deve ser um número\")\n",
    "try:\n",
    "    nota = Nota(peso='0.5', nota=10)\n",
    "    print(False)\n",
    "except Exception as e:\n",
    "    print(e.args[0] == \"Peso 0.5 deve ser um número\")\n",
    "    \n",
    "# Peso não pode ser menor que 0\n",
    "print(\"\\nTeste - Peso não pode ser menor que 0\")\n",
    "try:\n",
    "    nota = Nota(peso=-0.5, nota=10)\n",
    "    print(False)\n",
    "except Exception as e:\n",
    "    print(e.args[0] == \"Peso -0.5 não pode ser menor que 0\")\n",
    "    \n",
    "# Peso não pode ser maior que 1\n",
    "print(\"\\nTeste - Peso não pode ser maior que 1\")\n",
    "try:\n",
    "    nota = Nota(peso=1.5, nota=10)\n",
    "    print(False)\n",
    "except Exception as e:\n",
    "    print(e.args[0] == \"Peso 1.5 não pode ser maior que 1\")\n",
    "\n"
   ]
  },
  {
   "attachments": {},
   "cell_type": "markdown",
   "metadata": {},
   "source": [
    "#### 0.2.2 - Utils\n",
    "Funções que serão utilizadas com frequência\n"
   ]
  },
  {
   "cell_type": "code",
   "execution_count": 87,
   "metadata": {},
   "outputs": [],
   "source": [
    "class Utils:\n",
    "    @staticmethod\n",
    "    def media(l: List[Nota]) -> float:\n",
    "        if sum(map(lambda x: x.peso, l)) != 1:\n",
    "            raise Exception(\"A soma dos pesos deve ser 1\")\n",
    "        return sum(map(lambda x: x.nota * x.peso, l))\n",
    "    \n",
    "    @staticmethod\n",
    "    def print_lista_de_notas(l: List[Nota]):\n",
    "        if(len(l) == 0):\n",
    "            print(\"[]\")\n",
    "            return\n",
    "        print(\"[\", end=' ')\n",
    "        for idx in range(len(l)-1):\n",
    "            print(l[idx], end=', ')\n",
    "        print(l[-1], end=' ]')"
   ]
  },
  {
   "attachments": {},
   "cell_type": "markdown",
   "metadata": {},
   "source": [
    "Testando funções de `Utils`"
   ]
  },
  {
   "cell_type": "code",
   "execution_count": 73,
   "metadata": {},
   "outputs": [
    {
     "name": "stdout",
     "output_type": "stream",
     "text": [
      "\n",
      "Teste - Media - Teste 1\n",
      "True\n",
      "\n",
      "Teste - Media - Teste 2\n",
      "True\n",
      "\n",
      "Teste - Media - Teste 3\n",
      "True\n",
      "\n",
      "Teste - Media - Teste 4\n",
      "True\n",
      "\n",
      "Teste - Media - Teste do Erro\n",
      "True\n"
     ]
    }
   ],
   "source": [
    "# Media - Teste 1\n",
    "print(\"\\nTeste - Media - Teste 1\")\n",
    "notas = [Nota(peso=0.5, nota=10), Nota(peso=0.5, nota=10)]\n",
    "print(Utils.media(notas) == 10)\n",
    "\n",
    "# Media - Teste 2\n",
    "print(\"\\nTeste - Media - Teste 2\")\n",
    "notas = [Nota(peso=0.5, nota=10), Nota(peso=0.5, nota=0)]\n",
    "print(Utils.media(notas) == 5)\n",
    "\n",
    "# Media - Teste 3\n",
    "print(\"\\nTeste - Media - Teste 3\")\n",
    "notas = [Nota(peso=0.5, nota=10), Nota(peso=0.5, nota=5)]\n",
    "print(Utils.media(notas) == 7.5)\n",
    "\n",
    "# Media - Teste 4\n",
    "print(\"\\nTeste - Media - Teste 4\")\n",
    "notas = [Nota(peso=0.5, nota=10), Nota(peso=0.3, nota=5), Nota(peso=0.2, nota=0)]\n",
    "print(Utils.media(notas) == 6.5)\n",
    "\n",
    "# Media - Teste do Erro\n",
    "print(\"\\nTeste - Media - Teste do Erro\")\n",
    "notas = [Nota(peso=0.5, nota=10), Nota(peso=0.5, nota=5), Nota(peso=0.5, nota=0), Nota(peso=0.5, nota=0)]\n",
    "try:\n",
    "    Utils.media(notas)\n",
    "    print(False)\n",
    "except Exception as e:\n",
    "    print(e.args[0] == \"A soma dos pesos deve ser 1\")"
   ]
  },
  {
   "attachments": {},
   "cell_type": "markdown",
   "metadata": {},
   "source": [
    "#### 0.2.3 - Solucionador\n",
    "Interface para classes que resolverão os problemas abaixo"
   ]
  },
  {
   "cell_type": "code",
   "execution_count": 55,
   "metadata": {},
   "outputs": [],
   "source": [
    "class Solucionador(abc.ABC):\n",
    "    \n",
    "    @abc.abstractmethod\n",
    "    def algoritmo(self, notas_que_tenho: List[Tuple[int, int]], peso_de_notas_que_quero: List[float], media_desejada: float) -> List[Nota]:\n",
    "        pass\n",
    "    \n",
    "    @abc.abstractmethod\n",
    "    def teste_algoritmo(self, notas_que_tenho: Dict[float, float], peso_de_notas_que_quero: List[float], media_desejada: float) -> None:\n",
    "        pass"
   ]
  },
  {
   "attachments": {},
   "cell_type": "markdown",
   "metadata": {},
   "source": [
    "## 1. Primeiro Caso\n",
    "Supondo que uma matéria tenha P1, P2, P3 e P4, sendo que já foram dadas as notas da P1 e P2, quero saber para quais notas P3 e P4 o aluno conseguirá média 6.\n",
    "Facilitadores:\n",
    "1. tamanho de notas fixo\n",
    "2. média fixa (6)\n",
    "3. poucas notas\n",
    "4. nota possível de ser determinada"
   ]
  },
  {
   "cell_type": "code",
   "execution_count": 69,
   "metadata": {},
   "outputs": [],
   "source": [
    "class PrimeiroCaso(Solucionador):\n",
    "    @staticmethod\n",
    "    def algoritmo(notas_que_tenho: List[Tuple[int, int]], peso_de_notas_que_quero: List[float], media_desejada: float) -> List[Nota]:\n",
    "        notas_possiveis = list()\n",
    "        for i in range(len(dominio_de_notas)):\n",
    "            for j in range(len(dominio_de_notas)):\n",
    "                if(Utils.media(\n",
    "                    [Nota(nota[0], nota[1]) for nota in notas_que_tenho] + \\\n",
    "                    [\n",
    "                        Nota(peso=peso_de_notas_que_quero[0], nota=dominio_de_notas[i]),\n",
    "                        Nota(peso=peso_de_notas_que_quero[1], nota=dominio_de_notas[j])\n",
    "                    ]\n",
    "                )) == media_desejada:\n",
    "                    notas_possiveis.append((dominio_de_notas[i], dominio_de_notas[j]))\n",
    "        return notas_possiveis\n",
    "    \n",
    "    @staticmethod\n",
    "    def teste_algoritmo(notas_que_tenho: Dict[float, float], peso_de_notas_que_quero: List[float], media_desejada: float) -> None:\n",
    "        notas_possiveis = PrimeiroCaso.algoritmo(notas_que_tenho=notas_que_tenho, peso_de_notas_que_quero=peso_de_notas_que_quero, media_desejada=media_desejada)\n",
    "        print(f\"Para as notas {notas_que_tenho}, pesos {peso_de_notas_que_quero} e média {media_desejada} as notas possíveis são:\")\n",
    "        Utils.print_lista_de_notas(notas_possiveis)"
   ]
  },
  {
   "attachments": {},
   "cell_type": "markdown",
   "metadata": {},
   "source": [
    "Testando"
   ]
  },
  {
   "cell_type": "code",
   "execution_count": 88,
   "metadata": {},
   "outputs": [
    {
     "name": "stdout",
     "output_type": "stream",
     "text": [
      "\n",
      "PrimeiroCaso - Teste 1\n",
      "Para as notas [(0.2, 6.0), (0.2, 6.0)], pesos [0.4, 0.2] e média 6 as notas possíveis são:\n",
      "[ (4.0, 10.0), (4.5, 9.0), (5.0, 8.0), (6.5, 5.0), (7.5, 3.0), (9.0, 0.0) ]\n",
      "True\n",
      "\n",
      "PrimeiroCaso - Teste 2\n",
      "Para as notas [(0.2, 6.0), (0.2, 6.0)], pesos [0.3, 0.3] e média 7 as notas possíveis são:\n",
      "[]\n",
      "\n",
      "False\n"
     ]
    }
   ],
   "source": [
    "# Teste 1\n",
    "print(\"\\nPrimeiroCaso - Teste 1\")\n",
    "P1 = Nota(peso=0.2, nota=6.0)\n",
    "P2 = Nota(peso=0.2, nota=6.0)\n",
    "P3_peso = 0.4\n",
    "P4_peso = 0.2\n",
    "media_desejada = 6\n",
    "\n",
    "PrimeiroCaso.teste_algoritmo(notas_que_tenho=[(P1.peso, P1.nota), (P2.peso, P2.nota)], peso_de_notas_que_quero=[P3_peso, P4_peso], media_desejada=media_desejada)\n",
    "\n",
    "# Verificação\n",
    "print(\"\\n\"+\n",
    "str(Utils.media([\n",
    "    P1,\n",
    "    P2,\n",
    "    Nota(peso=P3_peso, nota=5.0),\n",
    "    Nota(peso=P4_peso, nota=8.0)\n",
    "]) == media_desejada)\n",
    ")\n",
    "\n",
    "# Teste 2\n",
    "print(\"\\nPrimeiroCaso - Teste 2\")\n",
    "P1 = Nota(peso=0.2, nota=6.0)\n",
    "P2 = Nota(peso=0.2, nota=6.0)\n",
    "P3_peso = 0.3\n",
    "P4_peso = 0.3\n",
    "media_desejada = 7\n",
    "\n",
    "PrimeiroCaso.teste_algoritmo(notas_que_tenho=[(P1.peso, P1.nota), (P2.peso, P2.nota)], peso_de_notas_que_quero=[P3_peso, P4_peso], media_desejada=media_desejada)\n",
    "\n",
    "# Verificação\n",
    "print(\"\\n\"+\n",
    "str(Utils.media([\n",
    "    P1,\n",
    "    P2,\n",
    "    Nota(peso=P3_peso, nota=7.0),\n",
    "    Nota(peso=P4_peso, nota=8.0)\n",
    "]) == media_desejada)\n",
    ")\n",
    "\n"
   ]
  },
  {
   "cell_type": "code",
   "execution_count": null,
   "metadata": {},
   "outputs": [],
   "source": []
  }
 ],
 "metadata": {
  "kernelspec": {
   "display_name": "base",
   "language": "python",
   "name": "python3"
  },
  "language_info": {
   "codemirror_mode": {
    "name": "ipython",
    "version": 3
   },
   "file_extension": ".py",
   "mimetype": "text/x-python",
   "name": "python",
   "nbconvert_exporter": "python",
   "pygments_lexer": "ipython3",
   "version": "3.9.7"
  },
  "orig_nbformat": 4
 },
 "nbformat": 4,
 "nbformat_minor": 2
}
